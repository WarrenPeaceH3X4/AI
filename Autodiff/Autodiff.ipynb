{
  "nbformat": 4,
  "nbformat_minor": 0,
  "metadata": {
    "colab": {
      "name": "Autodiff.ipynb",
      "provenance": []
    },
    "kernelspec": {
      "name": "python3",
      "display_name": "Python 3"
    },
    "language_info": {
      "name": "python"
    }
  },
  "cells": [
    {
      "cell_type": "markdown",
      "metadata": {
        "id": "ahpsdALPYJlo"
      },
      "source": [
        "https://towardsdatascience.com/build-your-own-automatic-differentiation-program-6ecd585eec2a"
      ]
    },
    {
      "cell_type": "code",
      "metadata": {
        "id": "4cqW1paRX4lr"
      },
      "source": [
        "import numpy as np"
      ],
      "execution_count": null,
      "outputs": []
    },
    {
      "cell_type": "code",
      "metadata": {
        "id": "rgaqisxUX25L"
      },
      "source": [
        "class Graph():\n",
        "    \"\"\" Computational graph class. \n",
        "    Initilizes a global variable _g that describes the graph.\n",
        "    Each graph consists of a set of\n",
        "        1. operators\n",
        "        2. variables\n",
        "        3. constants\n",
        "        4. placeholders\n",
        "    \"\"\"\n",
        "    def __init__(self):\n",
        "        self.operators = set()\n",
        "        self.constants = set()\n",
        "        self.variables = set()\n",
        "        self.placeholders = set()\n",
        "        global _g\n",
        "        _g = self\n",
        "        \n",
        "    def reset_counts(self, root):\n",
        "        if hasattr(root, 'count'):\n",
        "            root.count = 0\n",
        "        else:\n",
        "            for child in root.__subclasses__():\n",
        "                self.reset_counts(child)\n",
        "\n",
        "    def reset_session(self):\n",
        "        try:\n",
        "            del _g\n",
        "        except:\n",
        "            pass\n",
        "        self.reset_counts(Node)\n",
        "        \n",
        "    def __enter__(self):\n",
        "        return self\n",
        "    \n",
        "    def __exit__(self, exc_type, exc_value, traceback):\n",
        "        self.reset_session()"
      ],
      "execution_count": null,
      "outputs": []
    },
    {
      "cell_type": "code",
      "metadata": {
        "id": "4j-weRquYq8j"
      },
      "source": [
        "### This won't do anything other than allow us to check \n",
        "### if in object is a Graph node or not\n",
        "class Node:\n",
        "    def __init__(self):\n",
        "        pass"
      ],
      "execution_count": null,
      "outputs": []
    },
    {
      "cell_type": "code",
      "metadata": {
        "id": "hqOaVmPDYtW2"
      },
      "source": [
        "### Placeholders ###\n",
        "class Placeholder(Node):\n",
        "  \"\"\"An placeholder node in the computational graph. This holds\n",
        "  a node, and awaits further input at computation time.\n",
        "  Args: \n",
        "      name: defaults to \"Plc/\"+count\n",
        "      dtype: the type that the node holds, float, int, etc.\n",
        "  \"\"\"\n",
        "  count = 0\n",
        "  def __init__(self, name, dtype=float):\n",
        "      _g.placeholders.add(self)\n",
        "      self.value = None\n",
        "      self.gradient = None\n",
        "      self.name = f\"Plc/{Placeholder.count}\" if name is None else name\n",
        "      Placeholder.count += 1\n",
        "      \n",
        "  def __repr__(self):\n",
        "      return f\"Placeholder: name:{self.name}, value:{self.value}\""
      ],
      "execution_count": null,
      "outputs": []
    },
    {
      "cell_type": "code",
      "metadata": {
        "id": "MvnJh7yhYvyU"
      },
      "source": [
        "### Constants ###      \n",
        "class Constant(Node):\n",
        "    \"\"\"A constant node in the computational graph.\n",
        "    Args: \n",
        "        name: defaults to \"const/\"+count\n",
        "        value: a property protected value that prevents user \n",
        "               from reassigning value\n",
        "    \"\"\"\n",
        "    count = 0\n",
        "    def __init__(self, value, name=None):\n",
        "        _g.constants.add(self)\n",
        "        self._value = value\n",
        "        self.gradient = None\n",
        "        self.name = f\"Const/{Constant.count}\" if name is None else name\n",
        "        Constant.count += 1\n",
        "        \n",
        "    def __repr__(self):\n",
        "        return f\"Constant: name:{self.name}, value:{self.value}\"\n",
        "    \n",
        "    @property\n",
        "    def value(self):\n",
        "        return self._value\n",
        "    \n",
        "    @value.setter\n",
        "    def value(self):\n",
        "        raise ValueError(\"Cannot reassign constant\")\n",
        "        self.value = None\n",
        "        self.gradient = None\n",
        "        self.name = f\"Plc/{Placeholder.count}\" if name is None else name\n",
        "        Placeholder.count += 1\n",
        "        \n",
        "    def __repr__(self):\n",
        "        return f\"Placeholder: name:{self.name}, value:{self.value}\""
      ],
      "execution_count": null,
      "outputs": []
    },
    {
      "cell_type": "code",
      "metadata": {
        "id": "Z_36lDKLZSCa"
      },
      "source": [
        "### Variables ###\n",
        "class Variable(Node):\n",
        "    \"\"\"An variable node in the computational graph. Variables are\n",
        "    automatically tracked during graph computation.\n",
        "    Args: \n",
        "        name: defaults to \"var/\"+count\n",
        "        value: a mutable value\n",
        "    \"\"\"\n",
        "    count = 0\n",
        "    def __init__(self, value, name=None):\n",
        "        _g.variables.add(self)\n",
        "        self.value = value\n",
        "        self.gradient = None\n",
        "        self.name = f\"Var/{Variable.count}\" if name is None else name\n",
        "        Variable.count += 1\n",
        "        \n",
        "    def __repr__(self):\n",
        "        return f\"Variable: name:{self.name}, value:{self.value}\""
      ],
      "execution_count": null,
      "outputs": []
    },
    {
      "cell_type": "code",
      "metadata": {
        "id": "o_bqPejrZ1la"
      },
      "source": [
        "### Operators ###\n",
        "class Operator(Node):\n",
        "    \"\"\"An operator node in the computational graph.\n",
        "    Args: \n",
        "        name: defaults to \"operator name/\"+count\n",
        "    \"\"\"\n",
        "    def __init__(self, name='Operator'):\n",
        "        _g.operators.add(self)\n",
        "        self.value = None\n",
        "        self.inputs = []\n",
        "        self.gradient = None\n",
        "        self.name = name\n",
        "    \n",
        "    def __repr__(self):\n",
        "        return f\"Operator: name:{self.name}\""
      ],
      "execution_count": null,
      "outputs": []
    },
    {
      "cell_type": "code",
      "metadata": {
        "id": "cmA0_jd7Z4VN"
      },
      "source": [
        "############################################\n",
        "##### Fundamental Operator Definitions #####\n",
        "############################################\n",
        "class add(Operator):\n",
        "    count = 0\n",
        "    \"\"\"Binary addition operation.\"\"\"\n",
        "    def __init__(self, a, b, name=None):\n",
        "        super().__init__(name)\n",
        "        self.inputs=[a, b]\n",
        "        self.name = f'add/{add.count}' if name is None else name\n",
        "        add.count += 1\n",
        "        \n",
        "    def forward(self, a, b):\n",
        "        return a+b\n",
        "    \n",
        "    def backward(self, a, b, dout):\n",
        "        return dout, dout"
      ],
      "execution_count": null,
      "outputs": []
    },
    {
      "cell_type": "code",
      "metadata": {
        "id": "gFpMStNtaIxw"
      },
      "source": [
        "class multiply(Operator):\n",
        "    count = 0\n",
        "    \"\"\"Binary multiplication operation.\"\"\"\n",
        "    def __init__(self, a, b, name=None):\n",
        "        super().__init__(name)\n",
        "        self.inputs=[a, b]\n",
        "        self.name = f'mul/{multiply.count}' if name is None else name\n",
        "        multiply.count += 1\n",
        "        \n",
        "    def forward(self, a, b):\n",
        "        return a*b\n",
        "    \n",
        "    def backward(self, a, b, dout):\n",
        "        return dout*b, dout*a"
      ],
      "execution_count": null,
      "outputs": []
    },
    {
      "cell_type": "code",
      "metadata": {
        "id": "7YV3aJzyaL92"
      },
      "source": [
        "class divide(Operator):\n",
        "    count = 0\n",
        "    \"\"\"Binary division operation.\"\"\"\n",
        "    def __init__(self, a, b, name=None):\n",
        "        super().__init__(name)\n",
        "        self.inputs=[a, b]\n",
        "        self.name = f'div/{divide.count}' if name is None else name\n",
        "        divide.count += 1\n",
        "   \n",
        "    def forward(self, a, b):\n",
        "        return a/b\n",
        "    \n",
        "    def backward(self, a, b, dout):\n",
        "        return dout/b, dout*a/np.power(b, 2)"
      ],
      "execution_count": null,
      "outputs": []
    },
    {
      "cell_type": "code",
      "metadata": {
        "id": "C4PI0Mm2aO_o"
      },
      "source": [
        "class power(Operator):\n",
        "    count = 0\n",
        "    \"\"\"Binary exponentiation operation.\"\"\"\n",
        "    def __init__(self, a, b, name=None):\n",
        "        super().__init__(name)\n",
        "        self.inputs=[a, b]\n",
        "        self.name = f'pow/{power.count}' if name is None else name\n",
        "        power.count += 1\n",
        "   \n",
        "    def forward(self, a, b):\n",
        "        return np.power(a, b)\n",
        "    \n",
        "    def backward(self, a, b, dout):\n",
        "        return dout*b*np.power(a, (b-1)), dout*np.log(a)*np.power(a, b)"
      ],
      "execution_count": null,
      "outputs": []
    },
    {
      "cell_type": "code",
      "metadata": {
        "id": "sf4B9Iz5aScl"
      },
      "source": [
        "class matmul(Operator):\n",
        "    count = 0\n",
        "    \"\"\"Binary multiplication operation.\"\"\"\n",
        "    def __init__(self, a, b, name=None):\n",
        "        super().__init__(name)\n",
        "        self.inputs=[a, b]\n",
        "        self.name = f'matmul/{matmul.count}' if name is None else name\n",
        "        matmul.count += 1\n",
        "        \n",
        "    def forward(self, a, b):\n",
        "        return a@b\n",
        "    \n",
        "    def backward(self, a, b, dout):\n",
        "        return dout@b.T, a.T@dout"
      ],
      "execution_count": null,
      "outputs": []
    },
    {
      "cell_type": "code",
      "metadata": {
        "id": "9Br_32zXalsF"
      },
      "source": [
        "############################################\n",
        "#####       Operator overloading       #####\n",
        "############################################\n",
        "def node_wrapper(func, self, other):\n",
        "    \"\"\" Check to make sure that the two things we're comparing are\n",
        "    actually graph nodes. Also, if we use a constant, automatically\n",
        "    make a Constant node for it\"\"\"\n",
        "    if isinstance(other, Node):\n",
        "        return func(self, other)\n",
        "    if isinstance(other, float) or isinstance(other, int):\n",
        "        return func(self, Constant(other))\n",
        "    raise TypeError(\"Incompatible types.\")\n",
        "\n",
        "Node.__add__ = lambda self, other: node_wrapper(add, self, other)\n",
        "Node.__mul__ = lambda self, other: node_wrapper(multiply, self, other)\n",
        "Node.__div__ = lambda self, other: node_wrapper(divide, self, other)\n",
        "Node.__neg__ = lambda self: node_wrapper(multiply, self, Constant(-1))\n",
        "Node.__pow__ = lambda self, other: node_wrapper(power, self, other)\n",
        "Node.__matmul__ = lambda self, other: node_wrapper(matmul, self, other)"
      ],
      "execution_count": null,
      "outputs": []
    },
    {
      "cell_type": "code",
      "metadata": {
        "id": "ho5UT0jFaow4"
      },
      "source": [
        "with Graph() as g:\n",
        "  x = Variable(1.3)\n",
        "  y = Variable(0.9)\n",
        "  z = x*y+5"
      ],
      "execution_count": null,
      "outputs": []
    },
    {
      "cell_type": "code",
      "metadata": {
        "colab": {
          "base_uri": "https://localhost:8080/"
        },
        "id": "Nz2FqZYJbEt6",
        "outputId": "ace5e57a-0037-4378-a45e-95e2c1c1727e"
      },
      "source": [
        "g.variables"
      ],
      "execution_count": null,
      "outputs": [
        {
          "output_type": "execute_result",
          "data": {
            "text/plain": [
              "{Variable: name:Var/0, value:1.3, Variable: name:Var/1, value:0.9}"
            ]
          },
          "metadata": {
            "tags": []
          },
          "execution_count": 19
        }
      ]
    },
    {
      "cell_type": "code",
      "metadata": {
        "colab": {
          "base_uri": "https://localhost:8080/"
        },
        "id": "BA4fKJdzbLHn",
        "outputId": "e01aeb26-94bf-4b3a-dc10-fff6059b015e"
      },
      "source": [
        "g.operators"
      ],
      "execution_count": null,
      "outputs": [
        {
          "output_type": "execute_result",
          "data": {
            "text/plain": [
              "{Operator: name:add/0, Operator: name:mul/0}"
            ]
          },
          "metadata": {
            "tags": []
          },
          "execution_count": 20
        }
      ]
    },
    {
      "cell_type": "code",
      "metadata": {
        "colab": {
          "base_uri": "https://localhost:8080/"
        },
        "id": "KN9oNohwbMhH",
        "outputId": "daa861f8-410c-4e46-e5f2-dbd9a770cc53"
      },
      "source": [
        "g.constants"
      ],
      "execution_count": null,
      "outputs": [
        {
          "output_type": "execute_result",
          "data": {
            "text/plain": [
              "{Placeholder: name:Const/0, value:5}"
            ]
          },
          "metadata": {
            "tags": []
          },
          "execution_count": 21
        }
      ]
    },
    {
      "cell_type": "code",
      "metadata": {
        "id": "zNWb_FYXbNDf"
      },
      "source": [
        "##############################\n",
        "#####  Topological sort  #####\n",
        "##############################\n",
        "def topological_sort(head_node=None, graph=_g):\n",
        "    \"\"\"Performs topological sort of all nodes prior to and \n",
        "    including the head_node. \n",
        "    Args:\n",
        "        graph: the computational graph. This is the global value by default\n",
        "        head_node: last node in the forward pass. The \"result\" of the graph.\n",
        "    Returns:\n",
        "        a sorted array of graph nodes.\n",
        "    \"\"\"\n",
        "    vis = set()\n",
        "    ordering = []\n",
        "    \n",
        "    def _dfs(node):\n",
        "        if node not in vis:\n",
        "            vis.add(node)\n",
        "            if isinstance(node, Operator):\n",
        "                for input_node in node.inputs:\n",
        "                    _dfs(input_node)\n",
        "            ordering.append(node)\n",
        "            \n",
        "    if head_node is None:\n",
        "        for node in graph.operators:\n",
        "            _dfs(node)\n",
        "    else:\n",
        "        _dfs(head_node)\n",
        "    return ordering"
      ],
      "execution_count": null,
      "outputs": []
    },
    {
      "cell_type": "code",
      "metadata": {
        "id": "Te1wfEopbx3T"
      },
      "source": [
        "##############################\n",
        "#####    Forward pass    #####\n",
        "##############################    \n",
        "def forward_pass(order):\n",
        "    \"\"\" Performs the forward pass, returning the output of the graph.\n",
        "    Args:\n",
        "        order: a topologically sorted array of nodes\n",
        "    Returns:\n",
        "        1. the final result of the forward pass.\n",
        "        2. directly edits the graph to fill in its current values.\n",
        "    \"\"\"\n",
        "    for node in order:\n",
        "      if isinstance(node, Operator):\n",
        "            node.value = node.forward(*[prev_node.value for prev_node in node.inputs])\n",
        "\n",
        "    return order[-1].value"
      ],
      "execution_count": null,
      "outputs": []
    },
    {
      "cell_type": "code",
      "metadata": {
        "id": "hiAs214gcAdf"
      },
      "source": [
        "##############################\n",
        "#####    Backward pass   #####\n",
        "##############################  \n",
        "def backward_pass(order, target_node=None):\n",
        "    \"\"\" Perform the backward pass to retrieve gradients.\n",
        "    Args:\n",
        "        order: a topologically sorted array of graph nodes.\n",
        "               by default, this assigns the graident of the final node to 1\n",
        "    Returns:\n",
        "        gradients of nodes as listed in same order as input argument\n",
        "    \"\"\"\n",
        "    vis = set()\n",
        "    order[-1].gradient = 1\n",
        "    for node in reversed(order):\n",
        "        if isinstance(node, Operator):\n",
        "            inputs = node.inputs\n",
        "            grads = node.backward(*[x.value for x in inputs], dout=node.gradient)\n",
        "            for inp, grad in zip(inputs, grads):\n",
        "                if inp not in vis:\n",
        "                    inp.gradient = grad\n",
        "                else:\n",
        "                    inp.gradient += grad\n",
        "                vis.add(inp)\n",
        "    return [node.gradient for node in order]"
      ],
      "execution_count": null,
      "outputs": []
    },
    {
      "cell_type": "code",
      "metadata": {
        "colab": {
          "base_uri": "https://localhost:8080/"
        },
        "id": "FGRlYj3ZduoE",
        "outputId": "5cf5a08b-7f93-40cb-c20f-8c0c53273806"
      },
      "source": [
        "val1, val2, val3 = 0.9, 0.4, 1.3\n",
        "with Graph() as g:\n",
        "  x = Variable(val1, name='x')\n",
        "  y = Variable(val2, name='y')\n",
        "  c = Constant(val3, name='c')\n",
        "\n",
        "  z = (x*y+c)*c + x\n",
        "\n",
        "  order = topological_sort(z)\n",
        "\n",
        "  res = forward_pass(order)\n",
        "  grads = backward_pass(order)\n",
        "  \n",
        "  print(\"Node ordering:\")\n",
        "  for node in order:\n",
        "      print(node) \n",
        "  print('-'*10)\n",
        "  print(f\"Forward pass expected: {(val1*val2+val3)*val3+val1}\")\n",
        "  print(f\"Forward pass computed: {res}\")"
      ],
      "execution_count": null,
      "outputs": [
        {
          "output_type": "stream",
          "text": [
            "Node ordering:\n",
            "Variable: name:x, value:0.9\n",
            "Variable: name:y, value:0.4\n",
            "Operator: name:mul/0\n",
            "Placeholder: name:c, value:1.3\n",
            "Operator: name:add/0\n",
            "Operator: name:mul/1\n",
            "Operator: name:add/1\n",
            "----------\n",
            "Forward pass expected: 3.0580000000000003\n",
            "Forward pass computed: 3.0580000000000003\n"
          ],
          "name": "stdout"
        }
      ]
    },
    {
      "cell_type": "code",
      "metadata": {
        "colab": {
          "base_uri": "https://localhost:8080/"
        },
        "id": "zrYfdgJDd6_W",
        "outputId": "516cc804-f2ed-4f36-df44-0783bc03e514"
      },
      "source": [
        "dzdx_node = [a for a in order if a.name=='x'][0]\n",
        "dzdy_node = [a for a in order if a.name=='y'][0]\n",
        "dzdc_node = [a for a in order if a.name=='c'][0]\n",
        "\n",
        "print(f\"dz/dx expected = {val3*val2+1}\")\n",
        "print(f\"dz/dx computed = {dzdx_node.gradient}\")\n",
        "\n",
        "print(f\"dz/dy expected = {val1*val3}\")\n",
        "print(f\"dz/dy computed = {dzdy_node.gradient}\")\n",
        "\n",
        "print(f\"dz/dc expected = {val1*val2+2*val3}\")\n",
        "print(f\"dz/dc computed = {dzdc_node.gradient}\")"
      ],
      "execution_count": null,
      "outputs": [
        {
          "output_type": "stream",
          "text": [
            "dz/dx expected = 1.52\n",
            "dz/dx computed = 1.52\n",
            "dz/dy expected = 1.1700000000000002\n",
            "dz/dy computed = 1.1700000000000002\n",
            "dz/dc expected = 2.96\n",
            "dz/dc computed = 2.96\n"
          ],
          "name": "stdout"
        }
      ]
    },
    {
      "cell_type": "code",
      "metadata": {
        "id": "4IrFb1BqeMBJ"
      },
      "source": [
        "from graphviz import Digraph\n",
        "\n",
        "def make_graph(graph):\n",
        "    \"\"\"Allows us to visualize the computation graph directly in a Jupyter notebook.\n",
        "    must have graphviz module installed. Takes as input the topological sorted ordering\n",
        "    after calling the Session class\"\"\"\n",
        "    f = Digraph()\n",
        "    f.attr(rankdir='LR', size='10, 8')\n",
        "    f.attr('node', shape='circle')\n",
        "    for node in graph:\n",
        "        shape = 'box' if isinstance(node, Placeholder) else 'circle'\n",
        "        f.node(node.name, label=node.name.split('/')[0], shape=shape)\n",
        "    for node in graph:\n",
        "        if isinstance(node, Operator):\n",
        "            for e in node.inputs:\n",
        "                f.edge(e.name, node.name, label=e.name)\n",
        "    return f"
      ],
      "execution_count": null,
      "outputs": []
    },
    {
      "cell_type": "code",
      "metadata": {
        "id": "7n5ZZVWQiiBF"
      },
      "source": [
        "with Graph() as g:\n",
        "  x = Variable(val1, name='x')\n",
        "  y = Variable(val2, name='y')\n",
        "  c = Constant(val3, name='c')\n",
        "\n",
        "  z = (x*y+c)*c + x\n",
        "\n",
        "  order = topological_sort(z)\n",
        "\n",
        "  graph = make_graph(order)\n",
        "  graph.view(\"graph\")"
      ],
      "execution_count": null,
      "outputs": []
    },
    {
      "cell_type": "code",
      "metadata": {
        "id": "VEG_BAuWknqh"
      },
      "source": [
        ""
      ],
      "execution_count": null,
      "outputs": []
    }
  ]
}